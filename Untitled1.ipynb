{
  "nbformat": 4,
  "nbformat_minor": 0,
  "metadata": {
    "colab": {
      "provenance": [],
      "authorship_tag": "ABX9TyNNDY9U7c3bbdtxyWzSfC6w",
      "include_colab_link": true
    },
    "kernelspec": {
      "name": "python3",
      "display_name": "Python 3"
    },
    "language_info": {
      "name": "python"
    }
  },
  "cells": [
    {
      "cell_type": "markdown",
      "metadata": {
        "id": "view-in-github",
        "colab_type": "text"
      },
      "source": [
        "<a href=\"https://colab.research.google.com/github/srivarshithdaladuli/AMCAT-2015-Data-Analysis-/blob/main/Untitled1.ipynb\" target=\"_parent\"><img src=\"https://colab.research.google.com/assets/colab-badge.svg\" alt=\"Open In Colab\"/></a>"
      ]
    },
    {
      "cell_type": "code",
      "execution_count": null,
      "metadata": {
        "id": "CDJsqjxtBKjK"
      },
      "outputs": [],
      "source": [
        "def longest_common_substring(s1,s2):\n",
        "  m = len(s1)\n",
        "  n = len(s2)\n",
        "  result=0\n",
        "  end=0\n",
        "  length =[0 for x in range(n+1)]] for y in range(m+1)]\n",
        "  for i in range(m+1):\n",
        "    for j in range(n+!):\n",
        "       if i ==0 or j==0:\n",
        "         length[i][j]=0\n",
        "       elif s1[i-1]==s2[j-1]:\n",
        "         length[i][j]=length[i-1][j-1]+1\n",
        "         if length[i][j]>result:\n",
        "           result=length[i][j]\n",
        "\n",
        "           end = i =1\n",
        "\n",
        "           else:\n",
        "             length[i][j]=0\n",
        "             return s1[end-result+1:end+1]\n",
        "  s1=\"abcdefgh\"\n",
        "  s2=\"abfghijk\"\n",
        "\n",
        "print(longest_common_substring(s1,s2))                   "
      ]
    }
  ]
}